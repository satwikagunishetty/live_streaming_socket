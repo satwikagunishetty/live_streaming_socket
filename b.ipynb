{
 "cells": [
  {
   "cell_type": "code",
   "execution_count": 1,
   "metadata": {},
   "outputs": [],
   "source": [
    "import socket\n",
    "import threading\n",
    "import cv2\n",
    "import numpy\n",
    "from io import BytesIO\n",
    "\n",
    "######## client  ########\n",
    "remoteserver=socket.socket(socket.AF_INET, socket.SOCK_STREAM)\n",
    "#remoteserver.connect((\"4.tcp.ngrok.io\",14939))\n",
    "remoteserver.connect((\"192.168.1.108\",2323))\n",
    "\n",
    "######## sending data to server  #######\n",
    "def send():\n",
    "    cap=cv2.VideoCapture(0)\n",
    "    while True:\n",
    "        try:\n",
    "            ret,photo=cap.read()\n",
    "            np_bytes = BytesIO()\n",
    "            numpy.save(np_bytes, photo)\n",
    "            np_bytes = np_bytes.getvalue()\n",
    "            remoteserver.send(np_bytes) \n",
    "            cv2.imshow(\"Client\", photo)\n",
    "             #13 for enter key waits as long as enter key is pressed\n",
    "            if cv2.waitKey(10)==13: \n",
    "                 break\n",
    "        except:\n",
    "            cap.release()\n",
    "            break\n",
    "            \n",
    "######## Creating Threads #######R\n",
    "T1=threading.Thread(target=send)\n",
    "\n",
    "######## Starting Threads #######\n",
    "T1.start()\n",
    "#T2.start()"
   ]
  },
  {
   "cell_type": "code",
   "execution_count": null,
   "metadata": {},
   "outputs": [],
   "source": []
  }
 ],
 "metadata": {
  "kernelspec": {
   "display_name": "Python 3",
   "language": "python",
   "name": "python3"
  },
  "language_info": {
   "codemirror_mode": {
    "name": "ipython",
    "version": 3
   },
   "file_extension": ".py",
   "mimetype": "text/x-python",
   "name": "python",
   "nbconvert_exporter": "python",
   "pygments_lexer": "ipython3",
   "version": "3.8.3"
  }
 },
 "nbformat": 4,
 "nbformat_minor": 4
}
