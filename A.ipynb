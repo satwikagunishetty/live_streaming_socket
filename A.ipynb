{
 "cells": [
  {
   "cell_type": "code",
   "execution_count": 1,
   "metadata": {},
   "outputs": [],
   "source": [
    "import socket\n",
    "import threading\n",
    "import cv2\n",
    "import numpy\n",
    "from io import BytesIO\n",
    "\n",
    "######### server  #######\n",
    "server=socket.socket(socket.AF_INET, socket.SOCK_STREAM)\n",
    "server.bind((\"\",2323))\n",
    "server.listen()\n",
    "###### receiving data from client #######\n",
    "def receive():\n",
    "    client,address=server.accept() \n",
    "    #### accept connections ####\n",
    "    server.setsockopt(socket.SOL_SOCKET,socket.SO_REUSEADDR,1)\n",
    "    while True:\n",
    "        np_bytes = client.recv(1000000) #### 10lac bytes data received ####\n",
    "        if not np_bytes:\n",
    "            break\n",
    "        load_bytes = BytesIO(np_bytes)\n",
    "        try:\n",
    "            photo_recv = numpy.load(load_bytes)\n",
    "        except:\n",
    "            pass\n",
    "        cv2.imshow(\"server\", photo_recv)\n",
    "        cv2.waitKey(1)\n",
    "        if cv2.waitKey(10)==13:\n",
    "            break\n",
    "    cv2.destroyAllWindows()\n",
    "    client.close()\n",
    "\n",
    "\n",
    "T2=threading.Thread(target=receive)\n",
    "\n",
    "T2.start()"
   ]
  },
  {
   "cell_type": "code",
   "execution_count": null,
   "metadata": {},
   "outputs": [],
   "source": []
  }
 ],
 "metadata": {
  "kernelspec": {
   "display_name": "Python 3",
   "language": "python",
   "name": "python3"
  },
  "language_info": {
   "codemirror_mode": {
    "name": "ipython",
    "version": 3
   },
   "file_extension": ".py",
   "mimetype": "text/x-python",
   "name": "python",
   "nbconvert_exporter": "python",
   "pygments_lexer": "ipython3",
   "version": "3.8.3"
  }
 },
 "nbformat": 4,
 "nbformat_minor": 4
}
